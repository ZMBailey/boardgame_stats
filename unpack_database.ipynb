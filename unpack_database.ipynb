{
 "cells": [
  {
   "cell_type": "code",
   "execution_count": 1,
   "metadata": {},
   "outputs": [],
   "source": [
    "import pandas as pd\n",
    "import numpy as np\n",
    "import sqlite3"
   ]
  },
  {
   "cell_type": "code",
   "execution_count": 2,
   "metadata": {},
   "outputs": [],
   "source": [
    "db_file = 'data/database.sqlite'\n",
    "# conn = sqlite3.connect(db_file)\n",
    "# c = conn.cursor()"
   ]
  },
  {
   "cell_type": "code",
   "execution_count": 11,
   "metadata": {},
   "outputs": [
    {
     "data": {
      "text/plain": [
       "[('BoardGames',),\n",
       " ('bgg.ldaOut.topics',),\n",
       " ('bgg.ldaOut.top.terms',),\n",
       " ('bgg.ldaOut.top.documents',),\n",
       " ('bgg.topics',)]"
      ]
     },
     "execution_count": 11,
     "metadata": {},
     "output_type": "execute_result"
    }
   ],
   "source": [
    "query = \"\"\"\n",
    "SELECT name FROM sqlite_master WHERE type = 'table'\"\"\"\n",
    "c.execute(query)\n",
    "c.fetchall()"
   ]
  },
  {
   "cell_type": "code",
   "execution_count": 13,
   "metadata": {},
   "outputs": [],
   "source": [
    "query = \"\"\"\n",
    "SELECT * FROM BoardGames\"\"\"\n",
    "c.execute(query)\n",
    "bg = c.fetchall()"
   ]
  },
  {
   "cell_type": "code",
   "execution_count": 14,
   "metadata": {},
   "outputs": [
    {
     "data": {
      "text/plain": [
       "list"
      ]
     },
     "execution_count": 14,
     "metadata": {},
     "output_type": "execute_result"
    }
   ],
   "source": [
    "type(bg)"
   ]
  },
  {
   "cell_type": "code",
   "execution_count": 17,
   "metadata": {},
   "outputs": [
    {
     "data": {
      "text/plain": [
       "tuple"
      ]
     },
     "execution_count": 17,
     "metadata": {},
     "output_type": "execute_result"
    }
   ],
   "source": [
    "type(bg[1])"
   ]
  },
  {
   "cell_type": "code",
   "execution_count": 4,
   "metadata": {},
   "outputs": [
    {
     "name": "stdout",
     "output_type": "stream",
     "text": [
      "\n",
      "tables are:\n",
      "   BoardGames\n",
      "   bgg.ldaOut.top.documents\n",
      "   bgg.ldaOut.top.terms\n",
      "   bgg.ldaOut.topics\n",
      "   bgg.topics\n",
      "\n",
      "column names for BoardGames:\n",
      "   row_names\n",
      "   game.id\n",
      "   game.type\n",
      "   details.description\n",
      "   details.image\n",
      "   details.maxplayers\n",
      "   details.maxplaytime\n",
      "   details.minage\n",
      "   details.minplayers\n",
      "   details.minplaytime\n",
      "   details.name\n",
      "   details.playingtime\n",
      "   details.thumbnail\n",
      "   details.yearpublished\n",
      "   attributes.boardgameartist\n",
      "   attributes.boardgamecategory\n",
      "   attributes.boardgamecompilation\n",
      "   attributes.boardgamedesigner\n",
      "   attributes.boardgameexpansion\n",
      "   attributes.boardgamefamily\n",
      "   attributes.boardgameimplementation\n",
      "   attributes.boardgameintegration\n",
      "   attributes.boardgamemechanic\n",
      "   attributes.boardgamepublisher\n",
      "   attributes.total\n",
      "   stats.average\n",
      "   stats.averageweight\n",
      "   stats.bayesaverage\n",
      "   stats.family.abstracts.bayesaverage\n",
      "   stats.family.abstracts.pos\n",
      "   stats.family.cgs.bayesaverage\n",
      "   stats.family.cgs.pos\n",
      "   stats.family.childrensgames.bayesaverage\n",
      "   stats.family.childrensgames.pos\n",
      "   stats.family.familygames.bayesaverage\n",
      "   stats.family.familygames.pos\n",
      "   stats.family.partygames.bayesaverage\n",
      "   stats.family.partygames.pos\n",
      "   stats.family.strategygames.bayesaverage\n",
      "   stats.family.strategygames.pos\n",
      "   stats.family.thematic.bayesaverage\n",
      "   stats.family.thematic.pos\n",
      "   stats.family.wargames.bayesaverage\n",
      "   stats.family.wargames.pos\n",
      "   stats.median\n",
      "   stats.numcomments\n",
      "   stats.numweights\n",
      "   stats.owned\n",
      "   stats.stddev\n",
      "   stats.subtype.boardgame.bayesaverage\n",
      "   stats.subtype.boardgame.pos\n",
      "   stats.trading\n",
      "   stats.usersrated\n",
      "   stats.wanting\n",
      "   stats.wishing\n",
      "   polls.language_dependence\n",
      "   polls.suggested_numplayers.1\n",
      "   polls.suggested_numplayers.10\n",
      "   polls.suggested_numplayers.2\n",
      "   polls.suggested_numplayers.3\n",
      "   polls.suggested_numplayers.4\n",
      "   polls.suggested_numplayers.5\n",
      "   polls.suggested_numplayers.6\n",
      "   polls.suggested_numplayers.7\n",
      "   polls.suggested_numplayers.8\n",
      "   polls.suggested_numplayers.9\n",
      "   polls.suggested_numplayers.Over\n",
      "   polls.suggested_playerage\n",
      "   attributes.t.links.concat.2....\n",
      "   stats.family.amiga.bayesaverage\n",
      "   stats.family.amiga.pos\n",
      "   stats.family.arcade.bayesaverage\n",
      "   stats.family.arcade.pos\n",
      "   stats.family.atarist.bayesaverage\n",
      "   stats.family.atarist.pos\n",
      "   stats.family.commodore64.bayesaverage\n",
      "   stats.family.commodore64.pos\n",
      "   stats.subtype.rpgitem.bayesaverage\n",
      "   stats.subtype.rpgitem.pos\n",
      "   stats.subtype.videogame.bayesaverage\n",
      "   stats.subtype.videogame.pos\n",
      "\n",
      "column names for bgg.ldaOut.top.documents:\n",
      "   row_names\n",
      "   document\n",
      "   topic\n",
      "   gamma\n",
      "\n",
      "column names for bgg.ldaOut.top.terms:\n",
      "   row_names\n",
      "   topic\n",
      "   term\n",
      "   beta\n",
      "\n",
      "column names for bgg.ldaOut.topics:\n",
      "   row_names\n",
      "   topics(bgg.ldaOut)\n",
      "\n",
      "column names for bgg.topics:\n",
      "   row_names\n",
      "   game.id\n",
      "   game.type\n",
      "   details.maxplayers\n",
      "   details.maxplaytime\n",
      "   details.minage\n",
      "   details.minplayers\n",
      "   details.minplaytime\n",
      "   details.name\n",
      "   details.playingtime\n",
      "   details.yearpublished\n",
      "   attributes.boardgameartist\n",
      "   attributes.boardgamecategory\n",
      "   attributes.boardgamecompilation\n",
      "   attributes.boardgamedesigner\n",
      "   attributes.boardgameexpansion\n",
      "   attributes.boardgamefamily\n",
      "   attributes.boardgameimplementation\n",
      "   attributes.boardgameintegration\n",
      "   attributes.boardgamemechanic\n",
      "   attributes.boardgamepublisher\n",
      "   attributes.total\n",
      "   stats.average\n",
      "   stats.averageweight\n",
      "   stats.bayesaverage\n",
      "   stats.family.abstracts.bayesaverage\n",
      "   stats.family.abstracts.pos\n",
      "   stats.family.cgs.bayesaverage\n",
      "   stats.family.cgs.pos\n",
      "   stats.family.childrensgames.bayesaverage\n",
      "   stats.family.childrensgames.pos\n",
      "   stats.family.familygames.bayesaverage\n",
      "   stats.family.familygames.pos\n",
      "   stats.family.partygames.bayesaverage\n",
      "   stats.family.partygames.pos\n",
      "   stats.family.strategygames.bayesaverage\n",
      "   stats.family.strategygames.pos\n",
      "   stats.family.thematic.bayesaverage\n",
      "   stats.family.thematic.pos\n",
      "   stats.family.wargames.bayesaverage\n",
      "   stats.family.wargames.pos\n",
      "   stats.numcomments\n",
      "   stats.numweights\n",
      "   stats.owned\n",
      "   stats.stddev\n",
      "   stats.subtype.boardgame.bayesaverage\n",
      "   stats.subtype.boardgame.pos\n",
      "   stats.trading\n",
      "   stats.usersrated\n",
      "   stats.wanting\n",
      "   stats.wishing\n",
      "   polls.language_dependence\n",
      "   polls.suggested_numplayers.1\n",
      "   polls.suggested_numplayers.10\n",
      "   polls.suggested_numplayers.2\n",
      "   polls.suggested_numplayers.3\n",
      "   polls.suggested_numplayers.4\n",
      "   polls.suggested_numplayers.5\n",
      "   polls.suggested_numplayers.6\n",
      "   polls.suggested_numplayers.7\n",
      "   polls.suggested_numplayers.8\n",
      "   polls.suggested_numplayers.9\n",
      "   polls.suggested_numplayers.Over\n",
      "   polls.suggested_playerage\n",
      "   attributes.t.links.concat.2....\n",
      "   stats.subtype.rpgitem.bayesaverage\n",
      "   stats.subtype.rpgitem.pos\n",
      "   stats.weight.factor\n",
      "   details.playingtime.factor\n",
      "   details.minplayers.factor\n",
      "   details.maxplayers.factor\n",
      "   details.minage.factor\n",
      "   stats.average.factor\n",
      "   topic\n",
      "\n",
      "exiting.\n"
     ]
    }
   ],
   "source": [
    "\n",
    "newline_indent = '\\n   '\n",
    "\n",
    "db=sqlite3.connect(db_file)\n",
    "db.text_factory = str\n",
    "cur = db.cursor()\n",
    "\n",
    "result = cur.execute(\"SELECT name FROM sqlite_master WHERE type='table';\").fetchall()\n",
    "table_names = sorted(list(zip(*result))[0])\n",
    "print (\"\\ntables are:\"+newline_indent+newline_indent.join(table_names))\n",
    "\n",
    "for table_name in table_names:\n",
    "    result = cur.execute(\"PRAGMA table_info('%s')\" % table_name).fetchall()\n",
    "    column_names = list(zip(*result))[1]\n",
    "    print ((\"\\ncolumn names for %s:\" % table_name)\n",
    "           +newline_indent\n",
    "           +(newline_indent.join(column_names)))\n",
    "\n",
    "db.close()\n",
    "print (\"\\nexiting.\")"
   ]
  },
  {
   "cell_type": "code",
   "execution_count": null,
   "metadata": {},
   "outputs": [],
   "source": []
  }
 ],
 "metadata": {
  "kernelspec": {
   "display_name": "learn-env",
   "language": "python",
   "name": "learn-env"
  },
  "language_info": {
   "codemirror_mode": {
    "name": "ipython",
    "version": 3
   },
   "file_extension": ".py",
   "mimetype": "text/x-python",
   "name": "python",
   "nbconvert_exporter": "python",
   "pygments_lexer": "ipython3",
   "version": "3.7.1"
  }
 },
 "nbformat": 4,
 "nbformat_minor": 4
}
